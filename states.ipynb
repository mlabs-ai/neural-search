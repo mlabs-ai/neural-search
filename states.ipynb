{
 "cells": [
  {
   "cell_type": "code",
   "execution_count": null,
   "metadata": {},
   "outputs": [],
   "source": [
    "import torch\n",
    "import torch.nn as nn\n",
    "\n",
    "from lib.architecture import RandomizedSearch\n",
    "from lib.sample import SampleNormal"
   ]
  },
  {
   "cell_type": "code",
   "execution_count": null,
   "metadata": {},
   "outputs": [],
   "source": [
    "device = torch.device(\"cuda:0\" if torch.cuda.is_available() else \"mps\" if torch.backends.mps.is_available() else \"cpu\")\n",
    "device"
   ]
  },
  {
   "cell_type": "code",
   "execution_count": null,
   "metadata": {},
   "outputs": [],
   "source": [
    "D = 2\n",
    "H = 5\n",
    "O = 2    "
   ]
  },
  {
   "cell_type": "code",
   "execution_count": null,
   "metadata": {},
   "outputs": [],
   "source": [
    "from lib.sample import SampleUniform\n",
    "\n",
    "\n",
    "def create_model(max_depth, beam_width, num_samples):\n",
    "    encoder = nn.Sequential(\n",
    "        nn.Linear(D, H),\n",
    "        nn.ReLU(),\n",
    "        nn.LayerNorm(H)\n",
    "    )\n",
    "\n",
    "    search = RandomizedSearch(\n",
    "        transition=nn.Sequential(\n",
    "            nn.Linear(H, H),\n",
    "            nn.ReLU(),\n",
    "            nn.Linear(H, 2*H),\n",
    "        ),\n",
    "        fitness=nn.Sequential(\n",
    "            nn.Linear(H, H),\n",
    "            nn.ReLU(),\n",
    "            nn.Linear(H, 1),\n",
    "        ),\n",
    "        sample=nn.Sequential(\n",
    "            SampleUniform(H, num_samples=num_samples),\n",
    "            nn.LayerNorm(H)\n",
    "        ),\n",
    "        max_depth=max_depth, \n",
    "        beam_width=beam_width\n",
    "    )\n",
    "\n",
    "    decoder = nn.Sequential(\n",
    "        nn.Linear(H, O)\n",
    "    )\n",
    "\n",
    "    model = nn.Sequential(\n",
    "        encoder,\n",
    "        search,\n",
    "        decoder\n",
    "    )\n",
    "\n",
    "    return model\n",
    "\n",
    "model = create_model(1, 8, 8)\n",
    "model.to(device)\n",
    "\n",
    "target = create_model(100, 8, 8)\n",
    "target.to(device)\n",
    "target.train=False"
   ]
  },
  {
   "cell_type": "code",
   "execution_count": null,
   "metadata": {},
   "outputs": [],
   "source": [
    "learning_rate = 1e-3\n",
    "lambda_l2 = 1e-5\n",
    "\n",
    "# nn package also has different loss functions.\n",
    "# we use cross entropy loss for our classification task\n",
    "criterion = torch.nn.MSELoss()\n",
    "\n",
    "# we use the optim package to apply\n",
    "# ADAM for our parameter updates\n",
    "optimizer = torch.optim.Adam(model.parameters(), lr=learning_rate, weight_decay=lambda_l2) # built-in L2\n"
   ]
  },
  {
   "cell_type": "code",
   "execution_count": null,
   "metadata": {},
   "outputs": [],
   "source": [
    "ITERATIONS = 200\n",
    "BATCH_SIZE = 100\n",
    "\n",
    "with torch.device(device):\n",
    "    for i in range(ITERATIONS):\n",
    "        batch = torch.rand(BATCH_SIZE, D).to(device)\n",
    "\n",
    "        with torch.no_grad():\n",
    "            targets = target(batch)\n",
    "\n",
    "        # Feed forward to get the logits\n",
    "        y_pred = model(batch)\n",
    "        \n",
    "        # loss\n",
    "        loss = criterion(y_pred, targets)\n",
    "        \n",
    "        # accuracy\n",
    "        acc = torch.mean(torch.cosine_similarity(y_pred, targets))\n",
    "        \n",
    "        print(\"[EPOCH]: %i, [LOSS]: %.6f, [ACCURACY]: %.3f\" % (i, loss.item(), acc))\n",
    "        # display.clear_output(wait=False)\n",
    "        \n",
    "        # zero the gradients before running\n",
    "        # the backward pass.\n",
    "        optimizer.zero_grad()\n",
    "\n",
    "        # clip gradient\n",
    "        # torch.nn.utils.clip_grad_norm_(model.parameters(), 1e-2)\n",
    "        \n",
    "        # Backward pass to compute the gradient\n",
    "        # of loss w.r.t our learnable params. \n",
    "        loss.backward()\n",
    "        \n",
    "        # Update params\n",
    "        optimizer.step()"
   ]
  },
  {
   "cell_type": "code",
   "execution_count": null,
   "metadata": {},
   "outputs": [],
   "source": [
    "with torch.device(device):\n",
    "    batch = torch.rand(BATCH_SIZE, D).to(device)\n",
    "\n",
    "    with torch.no_grad():\n",
    "        targets1 = target(batch)\n",
    "        targets2 = target(batch)\n",
    "\n",
    "\n",
    "    # loss\n",
    "    loss = criterion(targets1, targets2)\n",
    "\n",
    "    # accuracy\n",
    "    acc = torch.mean(torch.cosine_similarity(targets1, targets2))\n",
    "\n",
    "'baseline error', loss.item(), 'accuracy', acc.item()"
   ]
  },
  {
   "cell_type": "code",
   "execution_count": null,
   "metadata": {},
   "outputs": [],
   "source": [
    "with torch.device(device):\n",
    "    batch = torch.rand(BATCH_SIZE, D).to(device)\n",
    "\n",
    "    with torch.no_grad():\n",
    "        targets1 = target(batch)\n",
    "        targets2 = model(batch)\n",
    "\n",
    "    # loss\n",
    "    loss = criterion(targets1, targets2)\n",
    "\n",
    "    # accuracy\n",
    "    acc = torch.mean(torch.cosine_similarity(targets1, targets2))\n",
    "\n",
    "'learned error', loss.item(), 'learned', acc.item()"
   ]
  }
 ],
 "metadata": {
  "kernelspec": {
   "display_name": ".venv",
   "language": "python",
   "name": "python3"
  },
  "language_info": {
   "codemirror_mode": {
    "name": "ipython",
    "version": 3
   },
   "file_extension": ".py",
   "mimetype": "text/x-python",
   "name": "python",
   "nbconvert_exporter": "python",
   "pygments_lexer": "ipython3",
   "version": "3.11.6"
  }
 },
 "nbformat": 4,
 "nbformat_minor": 2
}
