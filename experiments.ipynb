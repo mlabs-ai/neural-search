{
 "cells": [
  {
   "cell_type": "code",
   "execution_count": 5,
   "metadata": {},
   "outputs": [],
   "source": [
    "import torch\n",
    "import torch.nn as nn"
   ]
  },
  {
   "cell_type": "code",
   "execution_count": 8,
   "metadata": {},
   "outputs": [],
   "source": [
    "D = 2\n",
    "H = 5\n",
    "O = 2"
   ]
  },
  {
   "cell_type": "code",
   "execution_count": 6,
   "metadata": {},
   "outputs": [],
   "source": [
    "device = 'cuda' if torch.cuda.is_available() else 'cpu'"
   ]
  },
  {
   "cell_type": "code",
   "execution_count": 12,
   "metadata": {},
   "outputs": [
    {
     "data": {
      "text/plain": [
       "Sequential(\n",
       "  (0): Sequential(\n",
       "    (0): Linear(in_features=2, out_features=5, bias=True)\n",
       "    (1): ReLU()\n",
       "    (2): LayerNorm((5,), eps=1e-05, elementwise_affine=True)\n",
       "  )\n",
       "  (1): QuantumSearch(\n",
       "    (transition): Sequential(\n",
       "      (0): Linear(in_features=5, out_features=5, bias=True)\n",
       "      (1): ReLU()\n",
       "      (2): Linear(in_features=5, out_features=10, bias=True)\n",
       "    )\n",
       "    (fitness): Sequential(\n",
       "      (0): Linear(in_features=5, out_features=5, bias=True)\n",
       "      (1): ReLU()\n",
       "      (2): Linear(in_features=5, out_features=1, bias=True)\n",
       "    )\n",
       "  )\n",
       "  (2): Sequential(\n",
       "    (0): Linear(in_features=5, out_features=2, bias=True)\n",
       "  )\n",
       ")"
      ]
     },
     "execution_count": 12,
     "metadata": {},
     "output_type": "execute_result"
    }
   ],
   "source": [
    "from lib.quantumsearch import QuantumSearch\n",
    "\n",
    "\n",
    "def create_model(max_depth, beam_width, branching_width):\n",
    "    encoder = nn.Sequential(\n",
    "        nn.Linear(D, H),\n",
    "        nn.ReLU(),\n",
    "        nn.LayerNorm(H)\n",
    "    )\n",
    "\n",
    "    search = QuantumSearch(\n",
    "        transition=nn.Sequential(\n",
    "            nn.Linear(H, H),\n",
    "            nn.ReLU(),\n",
    "            nn.Linear(H, 2*H),\n",
    "        ),\n",
    "        fitness=nn.Sequential(\n",
    "            nn.Linear(H, H),\n",
    "            nn.ReLU(),\n",
    "            nn.Linear(H, 1),\n",
    "        ),\n",
    "        # # sample=nn.Sequential(\n",
    "        # #     SampleUniform(H, num_samples=num_samples),\n",
    "        # #     nn.LayerNorm(H)\n",
    "        # ),\n",
    "        max_depth=max_depth,\n",
    "        branching_width=branching_width,\n",
    "        beam_width=beam_width\n",
    "    )\n",
    "\n",
    "    decoder = nn.Sequential(\n",
    "        nn.Linear(H, O)\n",
    "    )\n",
    "\n",
    "    model = nn.Sequential(\n",
    "        encoder,\n",
    "        search,\n",
    "        decoder\n",
    "    )\n",
    "\n",
    "    return model\n",
    "\n",
    "model = create_model(1, 8, 8)\n",
    "model.to(device)"
   ]
  },
  {
   "cell_type": "code",
   "execution_count": 13,
   "metadata": {},
   "outputs": [
    {
     "ename": "ImportError",
     "evalue": "cannot import name 'FitnessFunction' from 'lib.quantumsearch' (/home/banashree/neural-search/lib/quantumsearch.py)",
     "output_type": "error",
     "traceback": [
      "\u001b[0;31m---------------------------------------------------------------------------\u001b[0m",
      "\u001b[0;31mImportError\u001b[0m                               Traceback (most recent call last)",
      "Cell \u001b[0;32mIn[13], line 1\u001b[0m\n\u001b[0;32m----> 1\u001b[0m \u001b[38;5;28;01mfrom\u001b[39;00m \u001b[38;5;21;01mlib\u001b[39;00m\u001b[38;5;21;01m.\u001b[39;00m\u001b[38;5;21;01mquantumsearch\u001b[39;00m \u001b[38;5;28;01mimport\u001b[39;00m FitnessFunction, OneToManyNetwork, QuantumSearch\n\u001b[1;32m      2\u001b[0m \u001b[38;5;28;01mfrom\u001b[39;00m \u001b[38;5;21;01mlib\u001b[39;00m\u001b[38;5;21;01m.\u001b[39;00m\u001b[38;5;21;01mquantumsearch\u001b[39;00m \u001b[38;5;28;01mimport\u001b[39;00m TransitionFunction\n\u001b[1;32m      4\u001b[0m D \u001b[38;5;241m=\u001b[39m \u001b[38;5;241m2\u001b[39m\n",
      "\u001b[0;31mImportError\u001b[0m: cannot import name 'FitnessFunction' from 'lib.quantumsearch' (/home/banashree/neural-search/lib/quantumsearch.py)"
     ]
    }
   ],
   "source": [
    "from lib.quantumsearch import FitnessFunction, OneToManyNetwork, QuantumSearch\n",
    "from lib.quantumsearch import TransitionFunction\n",
    "\n",
    "D = 2\n",
    "H = 5\n",
    "O = 3\n",
    "\n",
    "encoder = nn.Sequential(\n",
    "    nn.Linear(D, H),\n",
    "    nn.ReLU(),\n",
    "    nn.LayerNorm(H)\n",
    ")\n",
    "\n",
    "class Unpack(nn.Module):\n",
    "    def __init__(self, size):\n",
    "        super(Unpack, self).__init__()\n",
    "        self.size = size\n",
    "\n",
    "    def forward(self, x):\n",
    "        return x.reshape(*x.shape[:-1], x.shape[-1]//self.size, self.size)\n",
    "\n",
    "search = QuantumSearch(\n",
    "    transition=TransitionFunction(\n",
    "        OneToManyNetwork(\n",
    "            nn.Sequential(\n",
    "                nn.Linear(H, H),\n",
    "                nn.ReLU(),\n",
    "                nn.Linear(H, 3*H),\n",
    "                Unpack(3)\n",
    "            )\n",
    "        ),\n",
    "    ),\n",
    "    fitness=FitnessFunction(\n",
    "        OneToManyNetwork(\n",
    "            nn.Sequential(\n",
    "                nn.Linear(H, H),\n",
    "                nn.ReLU(),\n",
    "                nn.Linear(H, 3),\n",
    "                Unpack(3)\n",
    "            )\n",
    "        ),\n",
    "    ),\n",
    "    max_depth=3,\n",
    "    beam_width=3, # redundant since we have deterministic one-to-many functions\n",
    "    branching_width=3 # redundant since we have deterministic one-to-many functions\n",
    ")\n",
    "\n",
    "decoder = nn.Sequential(\n",
    "    nn.Linear(H, 3)\n",
    ")\n",
    "\n",
    "model = nn.Sequential(\n",
    "    encoder,\n",
    "    search,\n",
    "    decoder\n",
    ")"
   ]
  }
 ],
 "metadata": {
  "kernelspec": {
   "display_name": "venv",
   "language": "python",
   "name": "python3"
  },
  "language_info": {
   "codemirror_mode": {
    "name": "ipython",
    "version": 3
   },
   "file_extension": ".py",
   "mimetype": "text/x-python",
   "name": "python",
   "nbconvert_exporter": "python",
   "pygments_lexer": "ipython3",
   "version": "3.10.12"
  }
 },
 "nbformat": 4,
 "nbformat_minor": 2
}
