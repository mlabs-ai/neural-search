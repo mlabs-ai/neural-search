{
 "cells": [
  {
   "cell_type": "code",
   "execution_count": 1,
   "metadata": {},
   "outputs": [],
   "source": [
    "#!/usr/bin/env python3\n",
    "import gymnasium as gym\n",
    "\n",
    "from collections import namedtuple\n",
    "import numpy as np\n",
    "\n",
    "from tensorboardX import SummaryWriter\n",
    "\n",
    "import torch\n",
    "import torch.nn as nn\n",
    "import torch.optim as optim"
   ]
  },
  {
   "cell_type": "code",
   "execution_count": 2,
   "metadata": {},
   "outputs": [
    {
     "data": {
      "text/plain": [
       "device(type='cuda', index=0)"
      ]
     },
     "execution_count": 2,
     "metadata": {},
     "output_type": "execute_result"
    }
   ],
   "source": [
    "# device = torch.device(\"cuda:0\" if torch.cuda.is_available() else \"mps\" if torch.backends.mps.is_available() else \"cpu\")\n",
    "device = torch.device(\"cuda:0\" if torch.cuda.is_available() else \"cpu\")\n",
    "device"
   ]
  },
  {
   "cell_type": "code",
   "execution_count": 3,
   "metadata": {},
   "outputs": [],
   "source": [
    "BATCH_SIZE = 100\n",
    "PERCENTILE = 30\n",
    "GAMMA = 0.9"
   ]
  },
  {
   "cell_type": "code",
   "execution_count": 4,
   "metadata": {},
   "outputs": [],
   "source": [
    "class DiscreteOneHotWrapper(gym.ObservationWrapper):\n",
    "    def __init__(self, env):\n",
    "        super(DiscreteOneHotWrapper, self).__init__(env)\n",
    "        assert isinstance(env.observation_space,\n",
    "                          gym.spaces.Discrete)\n",
    "        shape = (env.observation_space.n, )\n",
    "        self.observation_space = gym.spaces.Box(\n",
    "            0.0, 1.0, shape, dtype=np.float32)\n",
    "\n",
    "    def observation(self, observation):\n",
    "        res = np.copy(self.observation_space.low)\n",
    "        res[observation] = 1.0\n",
    "        return res"
   ]
  },
  {
   "cell_type": "code",
   "execution_count": 5,
   "metadata": {},
   "outputs": [],
   "source": [
    "Episode = namedtuple('Episode', field_names=['reward', 'steps'])\n",
    "EpisodeStep = namedtuple('EpisodeStep', field_names=['observation', 'action'])"
   ]
  },
  {
   "cell_type": "code",
   "execution_count": 6,
   "metadata": {},
   "outputs": [],
   "source": [
    "def iterate_batches(env, net, batch_size):\n",
    "    batch = []\n",
    "    episode_reward = 0.0\n",
    "    episode_steps = []\n",
    "    obs, _ = env.reset()\n",
    "    sm = nn.Softmax(dim=1).to(device)\n",
    "    while True:\n",
    "        obs_v = torch.FloatTensor([obs]).to(device)\n",
    "        act_probs_v = sm(net(obs_v))\n",
    "        act_probs = act_probs_v.detach().cpu().numpy()[0]\n",
    "        action = np.random.choice(len(act_probs), p=act_probs)\n",
    "        next_obs, reward, is_done, truncated, _ = env.step(action)\n",
    "        episode_reward += reward\n",
    "        episode_steps.append(EpisodeStep(observation=obs, action=action))\n",
    "        if is_done or truncated:\n",
    "            batch.append(Episode(reward=episode_reward, steps=episode_steps))\n",
    "            episode_reward = 0.0\n",
    "            episode_steps = []\n",
    "            next_obs, _ = env.reset()\n",
    "            if len(batch) == batch_size:\n",
    "                yield batch\n",
    "                batch = []\n",
    "        obs = next_obs"
   ]
  },
  {
   "cell_type": "code",
   "execution_count": 7,
   "metadata": {},
   "outputs": [],
   "source": [
    "def filter_batch(batch, percentile):\n",
    "    filter_fun = lambda s: s.reward * (GAMMA ** len(s.steps))\n",
    "    disc_rewards = list(map(filter_fun, batch))\n",
    "    reward_bound = np.percentile(disc_rewards, percentile)\n",
    "\n",
    "    train_obs = []\n",
    "    train_act = []\n",
    "    elite_batch = []\n",
    "    for example, discounted_reward in zip(batch, disc_rewards):\n",
    "        if discounted_reward > reward_bound:\n",
    "            train_obs.extend(map(lambda step: step.observation,\n",
    "                                 example.steps))\n",
    "            train_act.extend(map(lambda step: step.action,\n",
    "                                 example.steps))\n",
    "            elite_batch.append(example)\n",
    "\n",
    "    return elite_batch, train_obs, train_act, reward_bound"
   ]
  },
  {
   "cell_type": "code",
   "execution_count": 8,
   "metadata": {},
   "outputs": [],
   "source": [
    "from gymnasium.envs.toy_text.frozen_lake import generate_random_map\n",
    "\n",
    "env = DiscreteOneHotWrapper(gym.make(\"FrozenLake-v1\", desc=generate_random_map(size=4), is_slippery=False))\n",
    "\n",
    "# env = gym.wrappers.Monitor(env, directory=\"mon\", force=True)\n",
    "obs_size = env.observation_space.shape[0]\n",
    "n_actions = env.action_space.n\n",
    "\n",
    "D = obs_size\n",
    "H = 16\n",
    "O = n_actions\n",
    "\n",
    "# net = create_deterministic_model(obs_size, 16, n_actions).to(device)\n",
    "\n"
   ]
  },
  {
   "cell_type": "code",
   "execution_count": 9,
   "metadata": {},
   "outputs": [],
   "source": [
    "%load_ext autoreload\n",
    "%autoreload 2\n",
    "from lib.layers import Residual, Unpack\n",
    "from lib.quantumsearch import FitnessFunction, OneToManyNetwork, QuantumSearch\n",
    "from lib.quantumsearch import TransitionFunction\n",
    "\n",
    "\n",
    "encoder = nn.Sequential(\n",
    "    nn.Linear(D, H),\n",
    "    nn.ReLU(),\n",
    ")\n",
    "\n",
    "search = QuantumSearch(\n",
    "    transition=TransitionFunction(\n",
    "        OneToManyNetwork(\n",
    "            nn.Sequential(\n",
    "                nn.Linear(H, H),\n",
    "                nn.ReLU(),\n",
    "                nn.Linear(H, 3*H),\n",
    "                Unpack(3) # Batch, ...,  3 * H -> Batch, ..., H, 3\n",
    "            )\n",
    "        ),\n",
    "    ),\n",
    "    fitness=FitnessFunction(\n",
    "        OneToManyNetwork(\n",
    "            nn.Sequential(\n",
    "                nn.Linear(H, H),\n",
    "                nn.ReLU(),\n",
    "                nn.Linear(H, 1),\n",
    "                Unpack(1) # Batch, ...,  3 * H -> Batch, ..., 1, 3\n",
    "            )\n",
    "        ),\n",
    "    ),\n",
    "    max_depth=3,\n",
    "    beam_width = 1,\n",
    "    branching_width=3\n",
    ")\n",
    "\n",
    "decoder = nn.Sequential(\n",
    "    nn.Linear(H, O)\n",
    ")\n",
    "\n",
    "model = nn.Sequential(\n",
    "    encoder,\n",
    "    Residual(search),\n",
    "    decoder\n",
    ")\n",
    "\n",
    "model.to(device)\n",
    "objective = nn.CrossEntropyLoss()\n",
    "optimizer = optim.Adam(params=model.parameters(), lr=0.01)\n",
    "writer = SummaryWriter(comment=\"-frozenlake-search\")\n"
   ]
  },
  {
   "cell_type": "code",
   "execution_count": 10,
   "metadata": {},
   "outputs": [
    {
     "data": {
      "text/plain": [
       "('number of parameters', 1717)"
      ]
     },
     "execution_count": 10,
     "metadata": {},
     "output_type": "execute_result"
    }
   ],
   "source": [
    "'number of parameters', sum(p.numel() for p in model.parameters())"
   ]
  },
  {
   "cell_type": "code",
   "execution_count": 11,
   "metadata": {},
   "outputs": [
    {
     "name": "stderr",
     "output_type": "stream",
     "text": [
      "/tmp/ipykernel_82462/3986369348.py:8: UserWarning: Creating a tensor from a list of numpy.ndarrays is extremely slow. Please consider converting the list to a single numpy.ndarray with numpy.array() before converting to a tensor. (Triggered internally at ../torch/csrc/utils/tensor_new.cpp:278.)\n",
      "  obs_v = torch.FloatTensor([obs]).to(device)\n"
     ]
    },
    {
     "name": "stdout",
     "output_type": "stream",
     "text": [
      "0: loss=1.379, rw_mean=0.110, rw_bound=0.000000, batch=11\n",
      "1: loss=1.327, rw_mean=0.200, rw_bound=0.000000, batch=31\n",
      "2: loss=1.299, rw_mean=0.460, rw_bound=0.000000, batch=77\n",
      "3: loss=1.239, rw_mean=0.600, rw_bound=0.030285, batch=124\n",
      "4: loss=1.197, rw_mean=0.530, rw_bound=0.064611, batch=155\n",
      "5: loss=1.149, rw_mean=0.580, rw_bound=0.109419, batch=177\n",
      "6: loss=1.094, rw_mean=0.620, rw_bound=0.185302, batch=189\n",
      "7: loss=1.036, rw_mean=0.550, rw_bound=0.254187, batch=184\n",
      "8: loss=0.964, rw_mean=0.650, rw_bound=0.313811, batch=178\n",
      "9: loss=0.888, rw_mean=0.610, rw_bound=0.348678, batch=186\n",
      "10: loss=0.812, rw_mean=0.510, rw_bound=0.387420, batch=191\n",
      "11: loss=0.688, rw_mean=0.600, rw_bound=0.430467, batch=162\n",
      "12: loss=0.590, rw_mean=0.730, rw_bound=0.478297, batch=133\n",
      "14: loss=0.646, rw_mean=0.740, rw_bound=0.387420, batch=63\n",
      "15: loss=0.566, rw_mean=0.700, rw_bound=0.430467, batch=112\n",
      "16: loss=0.459, rw_mean=0.860, rw_bound=0.478297, batch=130\n",
      "Solved!\n"
     ]
    }
   ],
   "source": [
    "full_batch = []\n",
    "\n",
    "gamma = 0.995\n",
    "\n",
    "with torch.device(device):\n",
    "    for iter_no, batch in enumerate(iterate_batches(env, model, BATCH_SIZE)):\n",
    "\n",
    "        reward_mean = float(np.mean(list(map(lambda s: s.reward, batch))))\n",
    "\n",
    "        full_batch, obs, acts, reward_bound = filter_batch(full_batch + batch, PERCENTILE)\n",
    "\n",
    "        if not full_batch:\n",
    "            continue\n",
    "\n",
    "        obs_v = torch.FloatTensor(obs).to(device)\n",
    "        acts_v = torch.LongTensor(acts).to(device)\n",
    "        full_batch = full_batch[-500:]\n",
    "\n",
    "        optimizer.zero_grad()\n",
    "\n",
    "        action_scores_v = model(obs_v)\n",
    "\n",
    "        loss_v = objective(action_scores_v, acts_v)\n",
    "\n",
    "        loss_v.backward()\n",
    "        optimizer.step()\n",
    "\n",
    "        print(\"%d: loss=%.3f, rw_mean=%.3f, rw_bound=%.6f, batch=%d\" % (\n",
    "            iter_no, loss_v.item(), reward_mean, reward_bound, len(full_batch))\n",
    "        )\n",
    "\n",
    "        writer.add_scalar(\"loss\", loss_v.item(), iter_no)\n",
    "        writer.add_scalar(\"reward_mean\", reward_mean, iter_no)\n",
    "        writer.add_scalar(\"reward_bound\", reward_bound, iter_no)\n",
    "\n",
    "        if reward_mean > 0.8:\n",
    "            print(\"Solved!\")\n",
    "            break\n",
    "\n",
    "    writer.close()"
   ]
  }
 ],
 "metadata": {
  "kernelspec": {
   "display_name": "venv",
   "language": "python",
   "name": "python3"
  },
  "language_info": {
   "codemirror_mode": {
    "name": "ipython",
    "version": 3
   },
   "file_extension": ".py",
   "mimetype": "text/x-python",
   "name": "python",
   "nbconvert_exporter": "python",
   "pygments_lexer": "ipython3",
   "version": "3.10.12"
  }
 },
 "nbformat": 4,
 "nbformat_minor": 2
}
