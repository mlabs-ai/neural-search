{
 "cells": [
  {
   "cell_type": "code",
   "execution_count": 1,
   "metadata": {},
   "outputs": [],
   "source": [
    "import torch\n",
    "import torch.nn as nn\n",
    "from torchvision import datasets, transforms\n",
    "from torch.utils.data import DataLoader\n",
    "\n",
    "import math"
   ]
  },
  {
   "cell_type": "code",
   "execution_count": 2,
   "metadata": {},
   "outputs": [],
   "source": [
    "device = torch.device(\"cuda:0\" if torch.cuda.is_available() else \"mps\" if torch.backends.mps.is_available() else \"cpu\")\n"
   ]
  },
  {
   "cell_type": "code",
   "execution_count": 3,
   "metadata": {},
   "outputs": [],
   "source": [
    "transform = transforms.Compose([transforms.ToTensor(),\n",
    "                               transforms.Normalize((0.1307,),(0.3081,))])\n",
    "train_dataset = datasets.MNIST(root = './MNIST_data', train  = True, download = True, transform = transform)\n",
    "train_loader = DataLoader(train_dataset, batch_size = 64, shuffle = True, generator=torch.Generator(device))\n"
   ]
  },
  {
   "cell_type": "code",
   "execution_count": null,
   "metadata": {},
   "outputs": [],
   "source": [
    "from lib.layers import Residual, UnpackGrid, MultiBatchConv2d\n",
    "from lib.quantumsearch import FitnessFunction, OneToManyNetwork, QuantumSearch\n",
    "from lib.quantumsearch import TransitionFunction\n",
    "encoder = nn.Sequential(\n",
    "    MultiBatchConv2d(1, 32, 3, 1),\n",
    "    nn.ReLU(),\n",
    ")\n",
    "search = QuantumSearch(\n",
    "    transition=TransitionFunction(\n",
    "        OneToManyNetwork(\n",
    "            nn.Sequential(\n",
    "                MultiBatchConv2d(32, 32, 3),\n",
    "                nn.ReLU(),\n",
    "                MultiBatchConv2d(32, 3*32,3),   # batch, 3*H, row_p, clo_p\n",
    "                UnpackGrid(3) # Batch, ...,  3 * H -> Batch, ..., H, 3\n",
    "            )\n",
    "        ),\n",
    "    ),\n",
    "    fitness=FitnessFunction(\n",
    "        OneToManyNetwork(\n",
    "            nn.Sequential(\n",
    "                MultiBatchConv2d(32, 32, 3, 1,1),\n",
    "                nn.ReLU(),\n",
    "                MultiBatchConv2d(32, 3, 3, 1,1),\n",
    "                UnpackGrid(3) # Batch, ...,  3 * H -> Batch, ..., 1, 3\n",
    "            )\n",
    "        ),\n",
    "    ),\n",
    "    max_depth=5,\n",
    "    beam_width=3,\n",
    "    branching_width=3\n",
    ")\n",
    "\n",
    "decoder = nn.Sequential(\n",
    "   nn.Flatten(1),\n",
    "   nn.Linear(1152, 10)\n",
    ")\n",
    "\n",
    "model = nn.Sequential(encoder,\n",
    "    search,\n",
    "    decoder)\n",
    "model.to(device)"
   ]
  },
  {
   "cell_type": "code",
   "execution_count": 5,
   "metadata": {},
   "outputs": [],
   "source": [
    "learning_rate = 1e-3\n",
    "lambda_l2 = 1e-5"
   ]
  },
  {
   "cell_type": "code",
   "execution_count": null,
   "metadata": {},
   "outputs": [],
   "source": [
    "\n",
    "# nn package also has different loss functions.\n",
    "# we use cross entropy loss for our classification task\n",
    "criterion = torch.nn.CrossEntropyLoss()\n",
    "\n",
    "# we use the optim package to apply\n",
    "# ADAM for our parameter updates\n",
    "optimizer = torch.optim.RMSprop(model.parameters(), lr=learning_rate, weight_decay=lambda_l2) # built-in L2\n",
    "\n",
    "\n",
    "temperature = 3.0\n",
    "gamma = 0.99\n",
    "\n",
    "with device:\n",
    "\n",
    "\n",
    "    # Training\n",
    "    for t in range(100):\n",
    "\n",
    "        for batch, targets in train_loader:\n",
    "\n",
    "            # Feed forward to get the logits\n",
    "            batch, targets = batch.to(device), targets.to(device)\n",
    "            y_pred = model(batch)\n",
    "\n",
    "            # loss\n",
    "            loss = criterion(y_pred, targets)\n",
    "\n",
    "            # accuracy\n",
    "            score, predicted = torch.max(y_pred, 1)\n",
    "            acc = (targets == predicted).sum().float() / len(targets)\n",
    "\n",
    "            print(\"[EPOCH]: %i, [LOSS]: %.6f, [ACCURACY]: %.3f\" % (t, loss.item(), acc))\n",
    "            # display.clear_output(wait=False)\n",
    "\n",
    "            # zero the gradients before running\n",
    "            # the backward pass.\n",
    "            optimizer.zero_grad()\n",
    "\n",
    "            # Backward pass to compute the gradient\n",
    "            # of loss w.r.t our learnable params.\n",
    "            loss.backward()\n",
    "\n",
    "            # # clip gradient\n",
    "            # torch.nn.utils.clip_grad_norm_(model.parameters(), 1e-2)\n",
    "\n",
    "            # Update params\n",
    "            optimizer.step()"
   ]
  }
 ],
 "metadata": {
  "kernelspec": {
   "display_name": "venv",
   "language": "python",
   "name": "python3"
  },
  "language_info": {
   "codemirror_mode": {
    "name": "ipython",
    "version": 3
   },
   "file_extension": ".py",
   "mimetype": "text/x-python",
   "name": "python",
   "nbconvert_exporter": "python",
   "pygments_lexer": "ipython3",
   "version": "3.10.12"
  }
 },
 "nbformat": 4,
 "nbformat_minor": 2
}
